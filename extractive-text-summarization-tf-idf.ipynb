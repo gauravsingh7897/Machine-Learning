{
 "cells": [
  {
   "cell_type": "code",
   "execution_count": 1,
   "metadata": {},
   "outputs": [
    {
     "name": "stderr",
     "output_type": "stream",
     "text": [
      "C:\\Users\\Gaurav Singh\\AppData\\Roaming\\Python\\Python37\\site-packages\\pandas\\compat\\_optional.py:124: UserWarning: Pandas requires version '1.2.1' or newer of 'bottleneck' (version '0+unknown' currently installed).\n",
      "  warnings.warn(msg, UserWarning)\n"
     ]
    }
   ],
   "source": [
    "import numpy as np\n",
    "import pandas as pd\n",
    "from nltk.tokenize import sent_tokenize\n",
    "from sklearn.feature_extraction.text import TfidfVectorizer"
   ]
  },
  {
   "cell_type": "code",
   "execution_count": 2,
   "metadata": {},
   "outputs": [],
   "source": [
    "document = \"\"\"\n",
    "Long, long ago there lived at the foot of the mountain a poor farmer and his aged, widowed mother. \n",
    "They owned a bit of land which supplied them with food, and they were humble, peaceful, and happy.\n",
    "Shining was governed by a despotic leader who though a warrior, had a great and cowardly shrinking from anything suggestive of failing health and strength. \n",
    "This caused him to send out a cruel proclamation. \n",
    "The entire province was given strict orders to immediately put to death all aged people. \n",
    "Those were barbarous days, and the custom of abandoning old people to die was not uncommon. \n",
    "The poor farmer loved his aged mother with tender reverence, and the order filled his heart with sorrow. \n",
    "But no one ever thought twice about obeying the mandate of the governor, so with many deep and hopeless sighs, the youth prepared for what at that time was considered the kindest mode of death.\n",
    "Just at sundown, when his day’s work was ended, he took a quantity of unwhitened rice which was the principal food for the poor, and he cooked, dried it, and tied it in a square cloth, which he swung in a bundle around his neck along with a gourd filled with cool, sweet water. \n",
    "Then he lifted his helpless old mother to his back and started on his painful journey up the mountain. \n",
    "The road was long and steep; the narrow road was crossed and re-crossed by many paths made by the hunters and woodcutters. \n",
    "In some place, they lost and confues, but he gave no heed. One path or another, it mattered not. On he went, climbing blindly upward -- ever upward towards the high bare summit of what is known as Obatsuyama, the mountain of the “abandoning of the aged.”\n",
    "The eyes of the old mother were not so dim but that they noted the reckless hastening from one path to another, and her loving heart grew anxious. \n",
    "Her son did not know the mountain’s many paths and his return might be one of danger, so she stretched forth her hand and snapping the twigs from brushes as they passed, she quietly dropped a handful every few steps of the way so that as they climbed, the narrow path behind them was dotted at frequent intervals with tiny piles of twigs. At last the summit was reached. \n",
    "Weary and heart sick, the youth gently released his burden and silently prepared a place of comfort as his last duty to the loved one. Gathering fallen pine needles, he made a soft cushion and tenderly lifted his old mother onto it. Hew rapped her padded coat more closely about the stooping shoulders and with tearful eyes and an aching heart he said farewell.\n",
    "\"\"\"\n",
    "document = document.replace('\\n', '')"
   ]
  },
  {
   "cell_type": "code",
   "execution_count": 3,
   "metadata": {},
   "outputs": [
    {
     "name": "stdout",
     "output_type": "stream",
     "text": [
      "['Long, long ago there lived at the foot of the mountain a poor farmer and his aged, widowed mother.', 'They owned a bit of land which supplied them with food, and they were humble, peaceful, and happy.Shining was governed by a despotic leader who though a warrior, had a great and cowardly shrinking from anything suggestive of failing health and strength.', 'This caused him to send out a cruel proclamation.', 'The entire province was given strict orders to immediately put to death all aged people.', 'Those were barbarous days, and the custom of abandoning old people to die was not uncommon.', 'The poor farmer loved his aged mother with tender reverence, and the order filled his heart with sorrow.', 'But no one ever thought twice about obeying the mandate of the governor, so with many deep and hopeless sighs, the youth prepared for what at that time was considered the kindest mode of death.Just at sundown, when his day’s work was ended, he took a quantity of unwhitened rice which was the principal food for the poor, and he cooked, dried it, and tied it in a square cloth, which he swung in a bundle around his neck along with a gourd filled with cool, sweet water.', 'Then he lifted his helpless old mother to his back and started on his painful journey up the mountain.', 'The road was long and steep; the narrow road was crossed and re-crossed by many paths made by the hunters and woodcutters.', 'In some place, they lost and confues, but he gave no heed.', 'One path or another, it mattered not.', 'On he went, climbing blindly upward -- ever upward towards the high bare summit of what is known as Obatsuyama, the mountain of the “abandoning of the aged.”The eyes of the old mother were not so dim but that they noted the reckless hastening from one path to another, and her loving heart grew anxious.', 'Her son did not know the mountain’s many paths and his return might be one of danger, so she stretched forth her hand and snapping the twigs from brushes as they passed, she quietly dropped a handful every few steps of the way so that as they climbed, the narrow path behind them was dotted at frequent intervals with tiny piles of twigs.', 'At last the summit was reached.', 'Weary and heart sick, the youth gently released his burden and silently prepared a place of comfort as his last duty to the loved one.', 'Gathering fallen pine needles, he made a soft cushion and tenderly lifted his old mother onto it.', 'Hew rapped her padded coat more closely about the stooping shoulders and with tearful eyes and an aching heart he said farewell.']\n"
     ]
    }
   ],
   "source": [
    "print(sent_tokenize(document))"
   ]
  },
  {
   "cell_type": "code",
   "execution_count": 4,
   "metadata": {},
   "outputs": [
    {
     "name": "stdout",
     "output_type": "stream",
     "text": [
      "17\n"
     ]
    }
   ],
   "source": [
    "print(len(sent_tokenize(document)))"
   ]
  },
  {
   "cell_type": "code",
   "execution_count": 5,
   "metadata": {},
   "outputs": [],
   "source": [
    "document_tokenize = sent_tokenize(document)"
   ]
  },
  {
   "cell_type": "code",
   "execution_count": 6,
   "metadata": {},
   "outputs": [],
   "source": [
    "vectorizer = TfidfVectorizer()"
   ]
  },
  {
   "cell_type": "code",
   "execution_count": 7,
   "metadata": {},
   "outputs": [],
   "source": [
    "transform_document = vectorizer.fit_transform(document_tokenize)"
   ]
  },
  {
   "cell_type": "code",
   "execution_count": 8,
   "metadata": {},
   "outputs": [],
   "source": [
    "document_scores = np.array(transform_document.sum(axis=1)).ravel()"
   ]
  },
  {
   "cell_type": "code",
   "execution_count": 9,
   "metadata": {},
   "outputs": [
    {
     "data": {
      "text/plain": [
       "array([3.77841837, 5.7463477 , 2.80253025, 3.65286914, 3.85993666,\n",
       "       3.76591846, 7.637151  , 3.89928631, 3.67047019, 3.38457115,\n",
       "       2.61666524, 6.13127982, 6.75172822, 2.3647309 , 4.52009206,\n",
       "       3.89980354, 4.50587923])"
      ]
     },
     "execution_count": 9,
     "metadata": {},
     "output_type": "execute_result"
    }
   ],
   "source": [
    "document_scores"
   ]
  },
  {
   "cell_type": "code",
   "execution_count": 10,
   "metadata": {},
   "outputs": [],
   "source": [
    "df = pd.DataFrame(document_tokenize, columns=['sentence'])"
   ]
  },
  {
   "cell_type": "code",
   "execution_count": 11,
   "metadata": {},
   "outputs": [],
   "source": [
    "df['scores'] = document_scores\n",
    "df['order']  = df.index"
   ]
  },
  {
   "cell_type": "code",
   "execution_count": 12,
   "metadata": {},
   "outputs": [],
   "source": [
    "df = df.sort_values(by=['scores'],ascending=False).reset_index(drop=True)"
   ]
  },
  {
   "cell_type": "code",
   "execution_count": 13,
   "metadata": {},
   "outputs": [
    {
     "data": {
      "text/html": [
       "<div>\n",
       "<style scoped>\n",
       "    .dataframe tbody tr th:only-of-type {\n",
       "        vertical-align: middle;\n",
       "    }\n",
       "\n",
       "    .dataframe tbody tr th {\n",
       "        vertical-align: top;\n",
       "    }\n",
       "\n",
       "    .dataframe thead th {\n",
       "        text-align: right;\n",
       "    }\n",
       "</style>\n",
       "<table border=\"1\" class=\"dataframe\">\n",
       "  <thead>\n",
       "    <tr style=\"text-align: right;\">\n",
       "      <th></th>\n",
       "      <th>sentence</th>\n",
       "      <th>scores</th>\n",
       "      <th>order</th>\n",
       "    </tr>\n",
       "  </thead>\n",
       "  <tbody>\n",
       "    <tr>\n",
       "      <th>0</th>\n",
       "      <td>But no one ever thought twice about obeying th...</td>\n",
       "      <td>7.637151</td>\n",
       "      <td>6</td>\n",
       "    </tr>\n",
       "    <tr>\n",
       "      <th>1</th>\n",
       "      <td>Her son did not know the mountain’s many paths...</td>\n",
       "      <td>6.751728</td>\n",
       "      <td>12</td>\n",
       "    </tr>\n",
       "    <tr>\n",
       "      <th>2</th>\n",
       "      <td>On he went, climbing blindly upward -- ever up...</td>\n",
       "      <td>6.131280</td>\n",
       "      <td>11</td>\n",
       "    </tr>\n",
       "    <tr>\n",
       "      <th>3</th>\n",
       "      <td>They owned a bit of land which supplied them w...</td>\n",
       "      <td>5.746348</td>\n",
       "      <td>1</td>\n",
       "    </tr>\n",
       "    <tr>\n",
       "      <th>4</th>\n",
       "      <td>Weary and heart sick, the youth gently release...</td>\n",
       "      <td>4.520092</td>\n",
       "      <td>14</td>\n",
       "    </tr>\n",
       "    <tr>\n",
       "      <th>5</th>\n",
       "      <td>Hew rapped her padded coat more closely about ...</td>\n",
       "      <td>4.505879</td>\n",
       "      <td>16</td>\n",
       "    </tr>\n",
       "    <tr>\n",
       "      <th>6</th>\n",
       "      <td>Gathering fallen pine needles, he made a soft ...</td>\n",
       "      <td>3.899804</td>\n",
       "      <td>15</td>\n",
       "    </tr>\n",
       "    <tr>\n",
       "      <th>7</th>\n",
       "      <td>Then he lifted his helpless old mother to his ...</td>\n",
       "      <td>3.899286</td>\n",
       "      <td>7</td>\n",
       "    </tr>\n",
       "    <tr>\n",
       "      <th>8</th>\n",
       "      <td>Those were barbarous days, and the custom of a...</td>\n",
       "      <td>3.859937</td>\n",
       "      <td>4</td>\n",
       "    </tr>\n",
       "    <tr>\n",
       "      <th>9</th>\n",
       "      <td>Long, long ago there lived at the foot of the ...</td>\n",
       "      <td>3.778418</td>\n",
       "      <td>0</td>\n",
       "    </tr>\n",
       "    <tr>\n",
       "      <th>10</th>\n",
       "      <td>The poor farmer loved his aged mother with ten...</td>\n",
       "      <td>3.765918</td>\n",
       "      <td>5</td>\n",
       "    </tr>\n",
       "    <tr>\n",
       "      <th>11</th>\n",
       "      <td>The road was long and steep; the narrow road w...</td>\n",
       "      <td>3.670470</td>\n",
       "      <td>8</td>\n",
       "    </tr>\n",
       "    <tr>\n",
       "      <th>12</th>\n",
       "      <td>The entire province was given strict orders to...</td>\n",
       "      <td>3.652869</td>\n",
       "      <td>3</td>\n",
       "    </tr>\n",
       "    <tr>\n",
       "      <th>13</th>\n",
       "      <td>In some place, they lost and confues, but he g...</td>\n",
       "      <td>3.384571</td>\n",
       "      <td>9</td>\n",
       "    </tr>\n",
       "    <tr>\n",
       "      <th>14</th>\n",
       "      <td>This caused him to send out a cruel proclamation.</td>\n",
       "      <td>2.802530</td>\n",
       "      <td>2</td>\n",
       "    </tr>\n",
       "    <tr>\n",
       "      <th>15</th>\n",
       "      <td>One path or another, it mattered not.</td>\n",
       "      <td>2.616665</td>\n",
       "      <td>10</td>\n",
       "    </tr>\n",
       "    <tr>\n",
       "      <th>16</th>\n",
       "      <td>At last the summit was reached.</td>\n",
       "      <td>2.364731</td>\n",
       "      <td>13</td>\n",
       "    </tr>\n",
       "  </tbody>\n",
       "</table>\n",
       "</div>"
      ],
      "text/plain": [
       "                                             sentence    scores  order\n",
       "0   But no one ever thought twice about obeying th...  7.637151      6\n",
       "1   Her son did not know the mountain’s many paths...  6.751728     12\n",
       "2   On he went, climbing blindly upward -- ever up...  6.131280     11\n",
       "3   They owned a bit of land which supplied them w...  5.746348      1\n",
       "4   Weary and heart sick, the youth gently release...  4.520092     14\n",
       "5   Hew rapped her padded coat more closely about ...  4.505879     16\n",
       "6   Gathering fallen pine needles, he made a soft ...  3.899804     15\n",
       "7   Then he lifted his helpless old mother to his ...  3.899286      7\n",
       "8   Those were barbarous days, and the custom of a...  3.859937      4\n",
       "9   Long, long ago there lived at the foot of the ...  3.778418      0\n",
       "10  The poor farmer loved his aged mother with ten...  3.765918      5\n",
       "11  The road was long and steep; the narrow road w...  3.670470      8\n",
       "12  The entire province was given strict orders to...  3.652869      3\n",
       "13  In some place, they lost and confues, but he g...  3.384571      9\n",
       "14  This caused him to send out a cruel proclamation.  2.802530      2\n",
       "15              One path or another, it mattered not.  2.616665     10\n",
       "16                    At last the summit was reached.  2.364731     13"
      ]
     },
     "execution_count": 13,
     "metadata": {},
     "output_type": "execute_result"
    }
   ],
   "source": [
    "df"
   ]
  },
  {
   "cell_type": "code",
   "execution_count": 14,
   "metadata": {},
   "outputs": [],
   "source": [
    "N = 3\n",
    "top_n_sentences = df.iloc[:N]"
   ]
  },
  {
   "cell_type": "code",
   "execution_count": 15,
   "metadata": {},
   "outputs": [],
   "source": [
    "top_n_sentences = top_n_sentences.sort_values(by=['order']).reset_index(drop=True)"
   ]
  },
  {
   "cell_type": "code",
   "execution_count": 16,
   "metadata": {},
   "outputs": [
    {
     "data": {
      "text/html": [
       "<div>\n",
       "<style scoped>\n",
       "    .dataframe tbody tr th:only-of-type {\n",
       "        vertical-align: middle;\n",
       "    }\n",
       "\n",
       "    .dataframe tbody tr th {\n",
       "        vertical-align: top;\n",
       "    }\n",
       "\n",
       "    .dataframe thead th {\n",
       "        text-align: right;\n",
       "    }\n",
       "</style>\n",
       "<table border=\"1\" class=\"dataframe\">\n",
       "  <thead>\n",
       "    <tr style=\"text-align: right;\">\n",
       "      <th></th>\n",
       "      <th>sentence</th>\n",
       "      <th>scores</th>\n",
       "      <th>order</th>\n",
       "    </tr>\n",
       "  </thead>\n",
       "  <tbody>\n",
       "    <tr>\n",
       "      <th>0</th>\n",
       "      <td>But no one ever thought twice about obeying th...</td>\n",
       "      <td>7.637151</td>\n",
       "      <td>6</td>\n",
       "    </tr>\n",
       "    <tr>\n",
       "      <th>1</th>\n",
       "      <td>On he went, climbing blindly upward -- ever up...</td>\n",
       "      <td>6.131280</td>\n",
       "      <td>11</td>\n",
       "    </tr>\n",
       "    <tr>\n",
       "      <th>2</th>\n",
       "      <td>Her son did not know the mountain’s many paths...</td>\n",
       "      <td>6.751728</td>\n",
       "      <td>12</td>\n",
       "    </tr>\n",
       "  </tbody>\n",
       "</table>\n",
       "</div>"
      ],
      "text/plain": [
       "                                            sentence    scores  order\n",
       "0  But no one ever thought twice about obeying th...  7.637151      6\n",
       "1  On he went, climbing blindly upward -- ever up...  6.131280     11\n",
       "2  Her son did not know the mountain’s many paths...  6.751728     12"
      ]
     },
     "execution_count": 16,
     "metadata": {},
     "output_type": "execute_result"
    }
   ],
   "source": [
    "top_n_sentences"
   ]
  },
  {
   "cell_type": "code",
   "execution_count": 17,
   "metadata": {},
   "outputs": [],
   "source": [
    "summary = ' '.join([ele for ele in top_n_sentences['sentence']])"
   ]
  },
  {
   "cell_type": "code",
   "execution_count": 18,
   "metadata": {},
   "outputs": [
    {
     "name": "stdout",
     "output_type": "stream",
     "text": [
      "But no one ever thought twice about obeying the mandate of the governor, so with many deep and hopeless sighs, the youth prepared for what at that time was considered the kindest mode of death.Just at sundown, when his day’s work was ended, he took a quantity of unwhitened rice which was the principal food for the poor, and he cooked, dried it, and tied it in a square cloth, which he swung in a bundle around his neck along with a gourd filled with cool, sweet water. On he went, climbing blindly upward -- ever upward towards the high bare summit of what is known as Obatsuyama, the mountain of the “abandoning of the aged.”The eyes of the old mother were not so dim but that they noted the reckless hastening from one path to another, and her loving heart grew anxious. Her son did not know the mountain’s many paths and his return might be one of danger, so she stretched forth her hand and snapping the twigs from brushes as they passed, she quietly dropped a handful every few steps of the way so that as they climbed, the narrow path behind them was dotted at frequent intervals with tiny piles of twigs.\n"
     ]
    }
   ],
   "source": [
    "print(summary)"
   ]
  }
 ],
 "metadata": {
  "kernelspec": {
   "display_name": "Python 3.7.6 64-bit",
   "language": "python",
   "name": "python37664bit4993cd7e75f34146bbc363d262bfde1b"
  },
  "language_info": {
   "codemirror_mode": {
    "name": "ipython",
    "version": 3
   },
   "file_extension": ".py",
   "mimetype": "text/x-python",
   "name": "python",
   "nbconvert_exporter": "python",
   "pygments_lexer": "ipython3",
   "version": "3.7.6"
  }
 },
 "nbformat": 4,
 "nbformat_minor": 4
}
